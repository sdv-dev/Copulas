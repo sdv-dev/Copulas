{
 "cells": [
  {
   "cell_type": "code",
   "execution_count": null,
   "metadata": {},
   "outputs": [],
   "source": [
    "import logging\n",
    "\n",
    "import numpy as np\n",
    "import pandas as pd\n",
    "\n",
    "from copulas.multivariate.GaussianCopula import GaussianCopula\n",
    "from copulas.utils import get_dataset, datasets_test\n",
    "\n",
    "LOGGER = logging.getLogger(__name__)"
   ]
  },
  {
   "cell_type": "code",
   "execution_count": null,
   "metadata": {},
   "outputs": [],
   "source": [
    "# We run the copula against all datasets available. \n",
    "results = datasets_test(GaussianCopula)"
   ]
  },
  {
   "cell_type": "code",
   "execution_count": null,
   "metadata": {},
   "outputs": [],
   "source": [
    "results"
   ]
  },
  {
   "cell_type": "code",
   "execution_count": null,
   "metadata": {},
   "outputs": [],
   "source": [
    "# We take some failing dataset and see the details\n",
    "FILE_NAME = 'glass_1_train.csv'"
   ]
  },
  {
   "cell_type": "code",
   "execution_count": null,
   "metadata": {},
   "outputs": [],
   "source": [
    "copula = GaussianCopula()\n",
    "data = get_dataset(FILE_NAME)\n",
    "\n",
    "copula.fit(data)\n",
    "print(copula)"
   ]
  },
  {
   "cell_type": "code",
   "execution_count": null,
   "metadata": {},
   "outputs": [],
   "source": [
    "samples = copula.sample(data.shape[0])\n",
    "samples.head(5)"
   ]
  },
  {
   "cell_type": "code",
   "execution_count": null,
   "metadata": {
    "scrolled": false
   },
   "outputs": [],
   "source": [
    "column = 3\n",
    "\n",
    "data_hist = data[column].hist(bins=25, figsize=(18,12), weights=np.zeros_like(data[column]) + 1. / data[column].size)\n",
    "samples_hist = samples[column].hist(bins=25, figsize=(18,12), weights=np.zeros_like(samples[column]) + 1. / samples[column].size)"
   ]
  }
 ],
 "metadata": {
  "kernelspec": {
   "display_name": "Python 3",
   "language": "python",
   "name": "python3"
  },
  "language_info": {
   "codemirror_mode": {
    "name": "ipython",
    "version": 3
   },
   "file_extension": ".py",
   "mimetype": "text/x-python",
   "name": "python",
   "nbconvert_exporter": "python",
   "pygments_lexer": "ipython3",
   "version": "3.6.5"
  }
 },
 "nbformat": 4,
 "nbformat_minor": 2
}
